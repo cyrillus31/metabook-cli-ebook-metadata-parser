{
 "cells": [
  {
   "cell_type": "code",
   "execution_count": 3,
   "id": "5a6f8928",
   "metadata": {},
   "outputs": [],
   "source": [
    "import pandas as pd"
   ]
  },
  {
   "cell_type": "code",
   "execution_count": 24,
   "id": "e3186e16",
   "metadata": {},
   "outputs": [
    {
     "data": {
      "text/html": [
       "<div>\n",
       "<style scoped>\n",
       "    .dataframe tbody tr th:only-of-type {\n",
       "        vertical-align: middle;\n",
       "    }\n",
       "\n",
       "    .dataframe tbody tr th {\n",
       "        vertical-align: top;\n",
       "    }\n",
       "\n",
       "    .dataframe thead th {\n",
       "        text-align: right;\n",
       "    }\n",
       "</style>\n",
       "<table border=\"1\" class=\"dataframe\">\n",
       "  <thead>\n",
       "    <tr style=\"text-align: right;\">\n",
       "      <th></th>\n",
       "      <th>cache</th>\n",
       "      <th>id</th>\n",
       "    </tr>\n",
       "  </thead>\n",
       "  <tbody>\n",
       "    <tr>\n",
       "      <th>0</th>\n",
       "      <td>LfJRTf1jOzll7chy</td>\n",
       "      <td>151550</td>\n",
       "    </tr>\n",
       "    <tr>\n",
       "      <th>1</th>\n",
       "      <td>tsDqYXtvPkd-LoZy</td>\n",
       "      <td>500333</td>\n",
       "    </tr>\n",
       "    <tr>\n",
       "      <th>2</th>\n",
       "      <td>hGPf8k0Ixp_ANvy6</td>\n",
       "      <td>970133</td>\n",
       "    </tr>\n",
       "    <tr>\n",
       "      <th>3</th>\n",
       "      <td>7Tc9S!3u7DeQEDkX</td>\n",
       "      <td>777699</td>\n",
       "    </tr>\n",
       "    <tr>\n",
       "      <th>4</th>\n",
       "      <td>B_xgHecEHrvvVPwB</td>\n",
       "      <td>447845</td>\n",
       "    </tr>\n",
       "    <tr>\n",
       "      <th>...</th>\n",
       "      <td>...</td>\n",
       "      <td>...</td>\n",
       "    </tr>\n",
       "    <tr>\n",
       "      <th>499995</th>\n",
       "      <td>_UdxsbPO7ZP5xtXl</td>\n",
       "      <td>888182</td>\n",
       "    </tr>\n",
       "    <tr>\n",
       "      <th>499996</th>\n",
       "      <td>p!glKVT4jn6Mb5NI</td>\n",
       "      <td>140156</td>\n",
       "    </tr>\n",
       "    <tr>\n",
       "      <th>499997</th>\n",
       "      <td>ip5UdhRhhp2g0KRW</td>\n",
       "      <td>472528</td>\n",
       "    </tr>\n",
       "    <tr>\n",
       "      <th>499998</th>\n",
       "      <td>nZvc!aEaBHBTMonr</td>\n",
       "      <td>808924</td>\n",
       "    </tr>\n",
       "    <tr>\n",
       "      <th>499999</th>\n",
       "      <td>mAAsXEyoP09g_h8j</td>\n",
       "      <td>427126</td>\n",
       "    </tr>\n",
       "  </tbody>\n",
       "</table>\n",
       "<p>500000 rows × 2 columns</p>\n",
       "</div>"
      ],
      "text/plain": [
       "                   cache      id\n",
       "0       LfJRTf1jOzll7chy  151550\n",
       "1       tsDqYXtvPkd-LoZy  500333\n",
       "2       hGPf8k0Ixp_ANvy6  970133\n",
       "3       7Tc9S!3u7DeQEDkX  777699\n",
       "4       B_xgHecEHrvvVPwB  447845\n",
       "...                  ...     ...\n",
       "499995  _UdxsbPO7ZP5xtXl  888182\n",
       "499996  p!glKVT4jn6Mb5NI  140156\n",
       "499997  ip5UdhRhhp2g0KRW  472528\n",
       "499998  nZvc!aEaBHBTMonr  808924\n",
       "499999  mAAsXEyoP09g_h8j  427126\n",
       "\n",
       "[500000 rows x 2 columns]"
      ]
     },
     "execution_count": 24,
     "metadata": {},
     "output_type": "execute_result"
    }
   ],
   "source": [
    "df = pd.read_csv('table.csv')\n",
    "df"
   ]
  },
  {
   "cell_type": "code",
   "execution_count": 33,
   "id": "5af07aa5",
   "metadata": {},
   "outputs": [
    {
     "data": {
      "text/plain": [
       "id\n",
       "251203    6\n",
       "544664    6\n",
       "501179    6\n",
       "336399    6\n",
       "808645    6\n",
       "         ..\n",
       "47018     1\n",
       "787258    1\n",
       "912083    1\n",
       "769917    1\n",
       "427126    1\n",
       "Name: count, Length: 393548, dtype: int64"
      ]
     },
     "execution_count": 33,
     "metadata": {},
     "output_type": "execute_result"
    }
   ],
   "source": [
    "unique_ids = df['id'].value_counts()\n",
    "unique_ids"
   ]
  },
  {
   "cell_type": "code",
   "execution_count": 36,
   "id": "343c558f",
   "metadata": {},
   "outputs": [
    {
     "data": {
      "text/plain": [
       "id\n",
       "374572    3\n",
       "52027     3\n",
       "237956    3\n",
       "766796    3\n",
       "783919    3\n",
       "         ..\n",
       "211694    3\n",
       "108474    3\n",
       "557820    3\n",
       "95914     3\n",
       "320099    3\n",
       "Name: count, Length: 12511, dtype: int64"
      ]
     },
     "execution_count": 36,
     "metadata": {},
     "output_type": "execute_result"
    }
   ],
   "source": [
    "three_times = unique_ids[unique_ids == 3]\n",
    "three_times"
   ]
  },
  {
   "cell_type": "code",
   "execution_count": 26,
   "id": "e70a54c8",
   "metadata": {},
   "outputs": [
    {
     "data": {
      "text/plain": [
       "count\n",
       "1    303441\n",
       "2     75779\n",
       "3     12511\n",
       "4      1630\n",
       "5       174\n",
       "6        13\n",
       "Name: count, dtype: int64"
      ]
     },
     "execution_count": 26,
     "metadata": {},
     "output_type": "execute_result"
    }
   ],
   "source": [
    "repeats = unique_ids.value_counts()\n",
    "repeats"
   ]
  },
  {
   "cell_type": "code",
   "execution_count": null,
   "id": "a1377684",
   "metadata": {},
   "outputs": [],
   "source": []
  }
 ],
 "metadata": {
  "kernelspec": {
   "display_name": "Python 3 (ipykernel)",
   "language": "python",
   "name": "python3"
  },
  "language_info": {
   "codemirror_mode": {
    "name": "ipython",
    "version": 3
   },
   "file_extension": ".py",
   "mimetype": "text/x-python",
   "name": "python",
   "nbconvert_exporter": "python",
   "pygments_lexer": "ipython3",
   "version": "3.9.12"
  }
 },
 "nbformat": 4,
 "nbformat_minor": 5
}
